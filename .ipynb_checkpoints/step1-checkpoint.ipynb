{
 "cells": [
  {
   "cell_type": "raw",
   "metadata": {
    "slideshow": {
     "slide_type": "slide"
    }
   },
   "source": [
    "# STEP1 [前処理]"
   ]
  },
  {
   "cell_type": "code",
   "execution_count": 21,
   "metadata": {
    "scrolled": true,
    "slideshow": {
     "slide_type": "-"
    }
   },
   "outputs": [],
   "source": [
    "import warnings\n",
    "warnings.filterwarnings('ignore') # warningが出ないように設定\n",
    "\n",
    "import pandas as pd\n",
    "import numpy as np\n",
    "import matplotlib.pyplot as plt\n",
    "\n",
    "%matplotlib inline\n",
    "\n",
    "\n",
    "pd.set_option(\"display.max_rows\", None) # pandasの表示上限をなくす\n",
    "pd.set_option(\"display.max_columns\", None) # pandasの表示上限をなくす"
   ]
  },
  {
   "cell_type": "markdown",
   "metadata": {
    "slideshow": {
     "slide_type": "subslide"
    }
   },
   "source": [
    "## データのローディング"
   ]
  },
  {
   "cell_type": "code",
   "execution_count": 23,
   "metadata": {
    "slideshow": {
     "slide_type": "-"
    }
   },
   "outputs": [],
   "source": [
    "data_path = '../input/'\n",
    "\n",
    "data = pd.read_csv(data_path + 'data_for_cleansing.csv')\n",
    "\n",
    "data"
   ]
  },
  {
   "cell_type": "markdown",
   "metadata": {
    "slideshow": {
     "slide_type": "fragment"
    }
   },
   "source": [
    "### データの説明 \n",
    "\n",
    "| カラム | 説明 |\n",
    "| --- | --- |\n",
    "| *air_store_id* | 店舗固有のID |\n",
    "| *visit_date* | 来客した日付 |\n",
    "| *visitors* | 来客数(目的変数) |\n",
    "| *air_genre_name*   | レストランの種別 |\n",
    "| *air_area_name* | レストランの場所文字列 |\n",
    "| *latitude* | レストランの緯度 |\n",
    "| *longitude* | レストランの緯度 |"
   ]
  },
  {
   "cell_type": "markdown",
   "metadata": {},
   "source": [
    "##### 資料へ..."
   ]
  },
  {
   "cell_type": "markdown",
   "metadata": {
    "slideshow": {
     "slide_type": "slide"
    }
   },
   "source": [
    "## 表記ゆれ処理"
   ]
  },
  {
   "cell_type": "markdown",
   "metadata": {
    "slideshow": {
     "slide_type": "subslide"
    }
   },
   "source": [
    "### 表記ゆれ確認\n",
    "- ヒアリングした内容を確認"
   ]
  },
  {
   "cell_type": "code",
   "execution_count": null,
   "metadata": {
    "slideshow": {
     "slide_type": "-"
    }
   },
   "outputs": [],
   "source": [
    "# air_store_idの先頭3文字を取得し、データ中にそれらが幾つ含まれているかを表示\n",
    "data[\"air_store_id\"].apply(lambda x: x[:3]).value_counts().head(10)"
   ]
  },
  {
   "cell_type": "code",
   "execution_count": null,
   "metadata": {},
   "outputs": [],
   "source": [
    "data"
   ]
  },
  {
   "cell_type": "markdown",
   "metadata": {},
   "source": [
    "##### 資料へ..."
   ]
  },
  {
   "cell_type": "markdown",
   "metadata": {
    "slideshow": {
     "slide_type": "subslide"
    }
   },
   "source": [
    "### 対策コード\n",
    "- 先方の要望通り*air*に統一"
   ]
  },
  {
   "cell_type": "code",
   "execution_count": null,
   "metadata": {
    "slideshow": {
     "slide_type": "-"
    }
   },
   "outputs": [],
   "source": [
    "# idを条件分岐し、正しいidを返す関数」\n",
    "def revise_failed_id(x):\n",
    "    start_word = x[:3]\n",
    "    if start_word == \"air\":\n",
    "        return x\n",
    "    elif start_word == \"AIR\":\n",
    "        return x.replace(\"AIR\", \"air\")\n",
    "    elif start_word == \"ａｉｒ\":\n",
    "        return x.replace(\"ａｉｒ\", \"air\")\n",
    "    elif start_word == \"ＡＩＲ\":\n",
    "        return x.replace(\"ＡＩＲ\", \"air\")\n",
    "    else:\n",
    "        return np.nan\n",
    "data[\"air_store_id\"]=data[\"air_store_id\"].astype(str)\n",
    "data[\"air_store_id\"] = data[\"air_store_id\"].apply(revise_failed_id)\n",
    "data[\"air_store_id\"]=data[\"air_store_id\"].astype(str)"
   ]
  },
  {
   "cell_type": "code",
   "execution_count": null,
   "metadata": {
    "slideshow": {
     "slide_type": "-"
    }
   },
   "outputs": [],
   "source": [
    "# 再度確認\n",
    "data[\"air_store_id\"].apply(lambda x: x[:3]).value_counts()"
   ]
  },
  {
   "cell_type": "markdown",
   "metadata": {},
   "source": [
    "##### 資料へ..."
   ]
  },
  {
   "cell_type": "markdown",
   "metadata": {
    "slideshow": {
     "slide_type": "slide"
    }
   },
   "source": [
    "## 欠損値"
   ]
  },
  {
   "cell_type": "code",
   "execution_count": null,
   "metadata": {},
   "outputs": [],
   "source": [
    "data.head()"
   ]
  },
  {
   "cell_type": "markdown",
   "metadata": {
    "slideshow": {
     "slide_type": "subslide"
    }
   },
   "source": [
    "### 欠損値可視化\n",
    "- 表として出力\n",
    "- 図として出力"
   ]
  },
  {
   "cell_type": "code",
   "execution_count": null,
   "metadata": {
    "slideshow": {
     "slide_type": "-"
    }
   },
   "outputs": [],
   "source": [
    "## 欠損値の数と割合を返す\n",
    "def missing_columns(df):\n",
    "    total = df.isnull().sum().sort_values(ascending = False)\n",
    "    percent = (df.isnull().sum()/df.isnull().count()*100).sort_values(ascending = False)\n",
    "    missing_data  = pd.concat([total, percent], axis=1, keys=['Total', 'Percent'])\n",
    "    return missing_data"
   ]
  },
  {
   "cell_type": "code",
   "execution_count": null,
   "metadata": {},
   "outputs": [],
   "source": [
    "missing_columns(data)"
   ]
  },
  {
   "cell_type": "code",
   "execution_count": null,
   "metadata": {
    "slideshow": {
     "slide_type": "-"
    }
   },
   "outputs": [],
   "source": [
    "import missingno as msno\n",
    "\n",
    "msno.matrix(data)"
   ]
  },
  {
   "cell_type": "markdown",
   "metadata": {},
   "source": [
    "#### 発見\n",
    "- *visitors*に0.2%の欠損が存在"
   ]
  },
  {
   "cell_type": "markdown",
   "metadata": {},
   "source": [
    "##### 資料へ..."
   ]
  },
  {
   "cell_type": "markdown",
   "metadata": {
    "slideshow": {
     "slide_type": "subslide"
    }
   },
   "source": [
    "### 対策コード\n",
    "- 欠損タイプがMCARのため、今回は簡単に実装ができるリストワイズ法を選択"
   ]
  },
  {
   "cell_type": "code",
   "execution_count": null,
   "metadata": {
    "slideshow": {
     "slide_type": "-"
    }
   },
   "outputs": [],
   "source": [
    "data = data.dropna(how='any') # 「how='any'」でリストワイズ法を行うことができる"
   ]
  },
  {
   "cell_type": "code",
   "execution_count": null,
   "metadata": {
    "slideshow": {
     "slide_type": "-"
    }
   },
   "outputs": [],
   "source": [
    "msno.matrix(data)"
   ]
  },
  {
   "cell_type": "markdown",
   "metadata": {},
   "source": [
    "##### 資料へ..."
   ]
  },
  {
   "cell_type": "markdown",
   "metadata": {},
   "source": [
    "## カテゴリカル"
   ]
  },
  {
   "cell_type": "markdown",
   "metadata": {},
   "source": [
    "### カテゴリカル変数確認"
   ]
  },
  {
   "cell_type": "code",
   "execution_count": null,
   "metadata": {},
   "outputs": [],
   "source": [
    "data.head()"
   ]
  },
  {
   "cell_type": "code",
   "execution_count": null,
   "metadata": {},
   "outputs": [],
   "source": [
    "data.dtypes"
   ]
  },
  {
   "cell_type": "markdown",
   "metadata": {},
   "source": [
    "### 対策コード\n",
    "- *air_genre_name*と*air_area_name*はLabelEncoding\n",
    "- *visit_date*は「年、月、日、週」に分割しEncoding"
   ]
  },
  {
   "cell_type": "code",
   "execution_count": null,
   "metadata": {},
   "outputs": [],
   "source": [
    "from sklearn.preprocessing import LabelEncoder\n",
    "\n",
    "le = LabelEncoder()\n",
    "data[\"air_genre_name_le\"] = le.fit_transform(data[\"air_genre_name\"])\n",
    "data[\"air_area_name_le\"] = le.fit_transform(data[\"air_area_name\"])\n",
    "\n",
    "data.head(2)"
   ]
  },
  {
   "cell_type": "code",
   "execution_count": null,
   "metadata": {},
   "outputs": [],
   "source": [
    "# pandas.to_datetime で str型からdatetime型 へ変換\n",
    "data[\"visit_date\"] = pd.to_datetime(data['visit_date'])\n",
    "data[\"visit_year\"] = data[\"visit_date\"].dt.year\n",
    "data[\"visit_month\"] = data[\"visit_date\"].dt.month\n",
    "data[\"visit_day\"] = data[\"visit_date\"].dt.day\n",
    "data[\"visit_weekday\"] = data[\"visit_date\"].dt.weekday\n",
    "\n",
    "data.head(3)"
   ]
  },
  {
   "cell_type": "markdown",
   "metadata": {},
   "source": [
    "## 学習データ\n",
    "- カラムをフィルターしてtrain test splitを行う"
   ]
  },
  {
   "cell_type": "code",
   "execution_count": null,
   "metadata": {},
   "outputs": [],
   "source": [
    "# trainとtestを分割し、目的変数と説明変数を更に分割して、dictで返す.(date_colで日付カラム指定、targetで説明変数カラムを指定.)\n",
    "def generate_train_test(df, drop_list, train_test_split_date,date_col,target):\n",
    "    train = df[df[date_col] <= train_test_split_date]\n",
    "    test = df[df[date_col] > train_test_split_date]\n",
    "\n",
    "    train = train.drop(drop_list, axis=1)\n",
    "    test = test.drop(drop_list, axis=1)\n",
    "\n",
    "    X_train = train.ix[:, train.columns != target]\n",
    "    X_test = test.ix[:, test.columns != target]\n",
    "    y_train = train[target]\n",
    "    y_test = test[target]\n",
    "    \n",
    "    return {\"X_train\":X_train, \"X_test\":X_test, \"y_train\":y_train, \"y_test\":y_test}"
   ]
  },
  {
   "cell_type": "code",
   "execution_count": null,
   "metadata": {},
   "outputs": [],
   "source": [
    "from datetime import timedelta\n",
    "\n",
    "TRAIN_SIZE_RATE = 0.8\n",
    "\n",
    "during_days = (data[\"visit_date\"].max() - data[\"visit_date\"].min()).days\n",
    "\n",
    "train_test_split_date = data[\"visit_date\"].min() + timedelta(days=int(during_days * TRAIN_SIZE_RATE))\n",
    "\n",
    "print(\"train_test_split_date is \\\"{0}\\\"\".format(train_test_split_date))"
   ]
  },
  {
   "cell_type": "markdown",
   "metadata": {},
   "source": [
    "#### カラムのフィルター(削除するカラムの説明)\n",
    "\n",
    "| カラム | 説明 |\n",
    "| --- | --- |\n",
    "| *air_store_id* | 未知のデータに対応できないため |\n",
    "| *visit_date* | object(str)型のため |\n",
    "| *air_genre_name* | object(str)型のため |\n",
    "| *air_area_name*   | object(str)型のため |\n",
    "| *latitude* | *air_store_id*と紐づく可能性がある |\n",
    "| *longitude* | 同上 |\n",
    "| *air_area_name_le* | 同上 |"
   ]
  },
  {
   "cell_type": "code",
   "execution_count": null,
   "metadata": {},
   "outputs": [],
   "source": [
    "# 学習データには使用しない(できない)特徴量を削除\n",
    "drop_list = [\"air_store_id\", \"visit_date\", \"air_genre_name\", \"air_area_name\", \"latitude\", \"longitude\", \"air_area_name_le\"]\n",
    "date_col=\"visit_date\"\n",
    "target=\"visitors\"\n",
    "dataset = generate_train_test(data, drop_list, train_test_split_date,date_col,target)\n",
    "\n",
    "print(\"X_train\")\n",
    "display(dataset[\"X_train\"].head(3))\n",
    "print(\"X_test\")\n",
    "display(dataset[\"X_test\"].head(3))\n",
    "print(\"y_train\")\n",
    "display(dataset[\"y_train\"].head(3))\n",
    "print(\"y_test\")\n",
    "display(dataset[\"y_test\"].head(3))"
   ]
  },
  {
   "cell_type": "markdown",
   "metadata": {},
   "source": [
    "## データの保存\n",
    "- DataFrameはcsvで保存することができるが、今回はpickleで保存\n",
    "    - [reference](https://docs.python.jp/2/library/pickle.html)"
   ]
  },
  {
   "cell_type": "code",
   "execution_count": null,
   "metadata": {},
   "outputs": [],
   "source": [
    "import pickle"
   ]
  },
  {
   "cell_type": "code",
   "execution_count": null,
   "metadata": {},
   "outputs": [],
   "source": [
    "with open(\"../pickle/data_step1.pickle\", mode=\"wb\") as f:\n",
    "    pickle.dump(data, f)"
   ]
  },
  {
   "cell_type": "code",
   "execution_count": null,
   "metadata": {},
   "outputs": [],
   "source": [
    "with open(\"../pickle/dataset_step1.pickle\", mode=\"wb\") as f:\n",
    "    pickle.dump(dataset, f)"
   ]
  },
  {
   "cell_type": "code",
   "execution_count": null,
   "metadata": {},
   "outputs": [],
   "source": []
  }
 ],
 "metadata": {
  "celltoolbar": "Edit Metadata",
  "kernelspec": {
   "display_name": "Python 3",
   "language": "python",
   "name": "python3"
  },
  "language_info": {
   "codemirror_mode": {
    "name": "ipython",
    "version": 3
   },
   "file_extension": ".py",
   "mimetype": "text/x-python",
   "name": "python",
   "nbconvert_exporter": "python",
   "pygments_lexer": "ipython3",
   "version": "3.6.4"
  },
  "latex_envs": {
   "LaTeX_envs_menu_present": true,
   "autoclose": false,
   "autocomplete": true,
   "bibliofile": "biblio.bib",
   "cite_by": "apalike",
   "current_citInitial": 1,
   "eqLabelWithNumbers": true,
   "eqNumInitial": 1,
   "hotkeys": {
    "equation": "Ctrl-E",
    "itemize": "Ctrl-I"
   },
   "labels_anchors": false,
   "latex_user_defs": false,
   "report_style_numbering": false,
   "user_envs_cfg": false
  },
  "toc": {
   "base_numbering": 1,
   "nav_menu": {},
   "number_sections": true,
   "sideBar": true,
   "skip_h1_title": false,
   "title_cell": "Table of Contents",
   "title_sidebar": "Contents",
   "toc_cell": false,
   "toc_position": {},
   "toc_section_display": true,
   "toc_window_display": false
  }
 },
 "nbformat": 4,
 "nbformat_minor": 2
}
